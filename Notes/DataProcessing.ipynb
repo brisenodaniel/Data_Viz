{
 "cells": [
  {
   "cell_type": "markdown",
   "metadata": {},
   "source": [
    "## Data Processing ##\n",
    "- R\n",
    "    - R is a command line language\n",
    "    - Possible to write scripts and then execute them in the terminal/command prompt, but almost no one does this\n",
    "    - Rstudio offers a far superior usability\n",
    "- Rstudio\n",
    "    - Itegrated Development Enviornment (IDE) that seamlesly incoporates many useful features\n",
    "    - Rstudio projects\n",
    "        - R Projects can be created\n",
    "            1. In a brand new diectory\n",
    "            2. In an existing directory alreading contianing R code and/or data\n",
    "            3. By cloning a repo from Github\n",
    "        - What happens when an R project is opened\n",
    "            1. A new R session is started\n",
    "            2. .Rprofile and .Rdata and .Rhistory files are uploaded\n",
    "            3. Working directory is set to the project direcotry\n",
    "            4. Source documents are sent to editor tab\n",
    "            5. Other settings\n",
    "         - Packages in R\n",
    "             - Collections of function built around a com"
   ]
  }
 ],
 "metadata": {
  "kernelspec": {
   "display_name": "Python 3",
   "language": "python",
   "name": "python3"
  },
  "language_info": {
   "codemirror_mode": {
    "name": "ipython",
    "version": 3
   },
   "file_extension": ".py",
   "mimetype": "text/x-python",
   "name": "python",
   "nbconvert_exporter": "python",
   "pygments_lexer": "ipython3",
   "version": "3.7.4"
  }
 },
 "nbformat": 4,
 "nbformat_minor": 4
}
