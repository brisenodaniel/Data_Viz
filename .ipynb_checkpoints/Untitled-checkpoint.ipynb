{
 "cells": [
  {
   "cell_type": "markdown",
   "metadata": {},
   "source": [
    "# Day 2 #\n",
    "## Common Types od Analysis that can be Pursued ##\n",
    "- Descriptive: describe the data\n",
    "    - Ex. What are teh students' perception of remote learning programs\n",
    "- Comparative: Assesed by continuous + categorical or categorical + categorical\n",
    "    - Ex. Does Students' perception of remote learning differ by major?\n",
    "- Relationship: don't require explicit IV vs. DV; usually two continuous variables\n",
    "    - Ex: What is the relationship between GPA before and after teh transitino to remote learning\n",
    "- Predictive: requires explicit IV and DV:\n",
    "    - Ex. Do GPA and major predic t students' perceptions of remote learning\n",
    "## Honing a Research Question ##\n",
    "- Often, you begin with a broad research question and then must narrow it\n",
    "    - Example: Do 16-17 year olds have different additudes towards political participation than 18-19 year olds?\n",
    "        - What do we mean by \"political participation?\"\n",
    "        - What are the units of analysis?\n",
    "        \n",
    "## Data Sources for Different Units of Analysis ##\n",
    "- Type of Analysis : Potential source\n",
    "    - Individuals, families, households at one point of time : Cross - sectional surveys, census, microdata \n",
    "    - Following individuals over time : Longitudinal data\n",
    "    - Small geographic area : Census aggregate data, neighborhood statistics\n",
    "    - Countries over time : International time series (e.g., World Bank, GDP)\n",
    "\n",
    "## An example ##\n",
    "Smoke monitors were placed in the home of parents who are smokers, one in the living area and one in the child's bedroom\n",
    "- What is the relationship between the two monitors? -> How does smoking in the living room affect concentrations in the child's bedroom -> Are elevated levels of smoke in the living area affecting air quality in the child's bedroom"
   ]
  }
 ],
 "metadata": {
  "kernelspec": {
   "display_name": "Python 3",
   "language": "python",
   "name": "python3"
  },
  "language_info": {
   "codemirror_mode": {
    "name": "ipython",
    "version": 3
   },
   "file_extension": ".py",
   "mimetype": "text/x-python",
   "name": "python",
   "nbconvert_exporter": "python",
   "pygments_lexer": "ipython3",
   "version": "3.7.4"
  }
 },
 "nbformat": 4,
 "nbformat_minor": 4
}
